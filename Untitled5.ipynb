{
  "nbformat": 4,
  "nbformat_minor": 0,
  "metadata": {
    "colab": {
      "provenance": [],
      "authorship_tag": "ABX9TyMt3n+2FCPpxf8agDcSD8fj",
      "include_colab_link": true
    },
    "kernelspec": {
      "name": "python3",
      "display_name": "Python 3"
    },
    "language_info": {
      "name": "python"
    }
  },
  "cells": [
    {
      "cell_type": "markdown",
      "metadata": {
        "id": "view-in-github",
        "colab_type": "text"
      },
      "source": [
        "<a href=\"https://colab.research.google.com/github/Sahil935910/Mini-Calculator/blob/main/Untitled5.ipynb\" target=\"_parent\"><img src=\"https://colab.research.google.com/assets/colab-badge.svg\" alt=\"Open In Colab\"/></a>"
      ]
    },
    {
      "cell_type": "code",
      "execution_count": 1,
      "metadata": {
        "colab": {
          "base_uri": "https://localhost:8080/"
        },
        "id": "mQ3l91LAYMTY",
        "outputId": "c346869b-9eda-4abf-f7c4-d92a2d8ff46d"
      },
      "outputs": [
        {
          "output_type": "stream",
          "name": "stdout",
          "text": [
            "~~~~~ mini Calculator ~~~~~\n",
            "enter the first number here: 24\n",
            "enter the second number here: 2\n",
            "print 1 for addition \n",
            "press 2 for substraction \n",
            "press 3 for multiplication \n",
            "press 4 for division\n",
            "enter your choise from 1-4: 5\n",
            "please put valid input sir and mam\n"
          ]
        }
      ],
      "source": [
        "print (\"~~~~~ mini Calculator ~~~~~\")\n",
        "num1 = float(input (\"enter the first number here: \"))\n",
        "num2 = float(input (\"enter the second number here: \"))\n",
        "print(\"print 1 for addition \\npress 2 for substraction \\npress 3 for multiplication \\npress 4 for division\")\n",
        "\n",
        "choise = int(input(\"enter your choise from 1-4: \"))\n",
        "\n",
        "if choise == 1:\n",
        "  print (num1 + num2)\n",
        "elif choise == 2:\n",
        "    print (num1 - num2)\n",
        "elif choise == 3:\n",
        "      print (num1 * num2)\n",
        "elif choise == 4:\n",
        "        print (num1 / num2)\n",
        "else:\n",
        "\n",
        "         print (\"please put valid input sir and mam\")"
      ]
    }
  ]
}